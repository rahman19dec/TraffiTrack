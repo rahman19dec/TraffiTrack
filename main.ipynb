{
 "cells": [
  {
   "cell_type": "code",
   "execution_count": null,
   "metadata": {},
   "outputs": [],
   "source": [
    "from ultralytics import YOLO\n",
    "import cv2\n",
    "import numpy as np\n",
    "import sqlite3\n",
    "from datetime import datetime\n",
    "import matplotlib.pyplot as plt\n",
    "from collections import defaultdict\n",
    "# from main_utils import *\n",
    "from utils import *\n",
    "import time\n",
    "MODEL = \"best.pt\"\n",
    "model = YOLO(MODEL)\n",
    "\n",
    "# cap = cap = cv2.VideoCapture(0)\n",
    "\n",
    "cap = cv2.VideoCapture(0)\n",
    "cap.set(3, 640)\n",
    "cap.set(4, 480)\n",
    "frame_width = int(cap.get(cv2.CAP_PROP_FRAME_WIDTH))\n",
    "frame_height = int(cap.get(cv2.CAP_PROP_FRAME_HEIGHT))\n",
    "heatmap_obj = heatmap.Heatmap()\n",
    "heatmap_obj.set_args(colormap=cv2.COLORMAP_PARULA, imw=frame_width, imh=frame_height, shape=\"circle\")\n",
    "\n",
    "detections = []\n",
    "count = 0\n",
    "track_history = defaultdict(lambda: [])\n",
    "\n",
    "conn = sqlite3.connect('detection_database.db')\n",
    "cursor = conn.cursor()\n",
    "\n",
    "# Create detection table if it does not exit\n",
    "create_detection_table(cursor)\n",
    "\n",
    "# Function to update the Matplotlib plot with new frames\n",
    "def update_plot(frame):\n",
    "    cv2.imshow('output',frame)\n",
    "\n",
    "plt.ion()  # Turn on interactive mode for Matplotlib\n",
    "#[{'time': '2024-02-23 14:20:37', 'xyxy': [[28.64773178100586, 134.34608459472656, 640.0, 479.8232727050781]], 'confidence': [0.893378496170044], 'class_id': [0], 'object_id': [1]}]\n",
    "try:\n",
    "    while cap.isOpened():\n",
    "        success, image = cap.read()\n",
    "        if success:\n",
    "            results = model.track(image, persist=True, tracker=\"bytetrack.yaml\")\n",
    "            heatmap_frame = heatmap_obj.generate_heatmap(image.copy(), results)\n",
    "            update_plot(heatmap_frame)\n",
    "            if results[0].boxes.id is not None:\n",
    "                detections = [{'time': datetime.now().strftime(\"%Y-%m-%d %H:%M:%S\"),\n",
    "                               'xyxy': list(results[0].boxes.xyxy.cpu().tolist()),\n",
    "                               'confidence': list(results[0].boxes.conf.cpu().tolist()),\n",
    "                               'class_id': list(results[0].boxes.cls.cpu().int().tolist()),\n",
    "                               'object_id': list(map(int, list(results[0].boxes.id.cpu().tolist())))}]\n",
    "                frame = results[0].plot()\n",
    "                annotated_frame = plot_tracks(frame, results, track_history)\n",
    "                try:\n",
    "                    insert_detection(cursor, detections)\n",
    "                    conn.commit()  # Commit the transaction\n",
    "                except Exception as e:\n",
    "                    print(\"Error inserting data into database:\", e)\n",
    "                    conn.rollback()  # Rollback the transaction in case of an error\n",
    "            else:\n",
    "                annotated_frame = None\n",
    "\n",
    "            if annotated_frame is not None and annotated_frame.size > 0:\n",
    "              \n",
    "                # update_plot(annotated_frame)\n",
    "                pass\n",
    "            else:\n",
    "              pass\n",
    "                # update_plot(image)\n",
    "\n",
    "            plt.pause(0.5)\n",
    "\n",
    "        else:\n",
    "            break\n",
    "\n",
    "except KeyboardInterrupt:\n",
    "    pass\n",
    "  \n",
    "\n",
    "cap.release()\n",
    "cv2.destroyAllWindows()\n"
   ]
  },
  {
   "cell_type": "code",
   "execution_count": null,
   "metadata": {},
   "outputs": [],
   "source": [
    "from tensorflow.python.client import device_lib\n",
    "print(device_lib.list_local_devices())"
   ]
  },
  {
   "cell_type": "code",
   "execution_count": null,
   "metadata": {},
   "outputs": [],
   "source": [
    "!pip install --upgrade pip setuptools"
   ]
  },
  {
   "cell_type": "code",
   "execution_count": null,
   "metadata": {},
   "outputs": [],
   "source": [
    "!pip install tensorflow-gpu"
   ]
  },
  {
   "cell_type": "code",
   "execution_count": null,
   "metadata": {},
   "outputs": [],
   "source": [
    "import cv2\n",
    "\n",
    "print(\"OpenCV version:\", cv2.__version__)"
   ]
  },
  {
   "cell_type": "code",
   "execution_count": 2,
   "metadata": {},
   "outputs": [
    {
     "data": {
      "text/plain": [
       "{0: 'person', 1: 'bicycle', 2: 'car', 3: 'motorcycle', 4: 'bus', 5: 'truck'}"
      ]
     },
     "execution_count": 2,
     "metadata": {},
     "output_type": "execute_result"
    }
   ],
   "source": [
    "from ultralytics import YOLO\n",
    "model = YOLO(\"best.pt\")\n",
    "model.names"
   ]
  },
  {
   "cell_type": "code",
   "execution_count": 43,
   "metadata": {},
   "outputs": [
    {
     "name": "stdout",
     "output_type": "stream",
     "text": [
      "378\n"
     ]
    }
   ],
   "source": [
    "import sqlite3\n",
    "conn = sqlite3.connect('detection_database.db')\n",
    "cursor = conn.cursor()\n",
    "command = \"SELECT * FROM detection_bytime WHERE time>'2024-02-24 00:00:00'\"\n",
    "# Execute a query to fetch data from the database\n",
    "cursor.execute(command)\n",
    "data = cursor.fetchall()\n",
    "\n",
    "# Close the database cursor and connection\n",
    "cursor.close()\n",
    "conn.close()\n",
    "print(len(data))"
   ]
  },
  {
   "cell_type": "code",
   "execution_count": 18,
   "metadata": {},
   "outputs": [],
   "source": [
    "data\n",
    "classes = {0: 'person', 1: 'bicycle', 2: 'car', 3: 'motorcycle', \n",
    "            4: 'bus', 5: 'truck'}"
   ]
  },
  {
   "cell_type": "code",
   "execution_count": 33,
   "metadata": {},
   "outputs": [
    {
     "name": "stdout",
     "output_type": "stream",
     "text": [
      "2024-02-24 11:24:26 {0: 2, 1: 0, 2: 0, 3: 0, 4: 0, 5: 0}\n",
      "2024-02-24 11:24:28 {0: 2, 1: 0, 2: 0, 3: 0, 4: 0, 5: 0}\n",
      "2024-02-24 11:24:29 {0: 2, 1: 0, 2: 0, 3: 0, 4: 0, 5: 0}\n",
      "2024-02-24 11:24:30 {0: 2, 1: 0, 2: 0, 3: 0, 4: 0, 5: 0}\n",
      "2024-02-24 11:24:30 {0: 2, 1: 0, 2: 0, 3: 0, 4: 0, 5: 0}\n",
      "2024-02-24 11:24:31 {0: 2, 1: 0, 2: 0, 3: 0, 4: 0, 5: 0}\n",
      "2024-02-24 11:24:32 {0: 2, 1: 0, 2: 0, 3: 0, 4: 0, 5: 0}\n",
      "2024-02-24 11:24:33 {0: 2, 1: 0, 2: 0, 3: 0, 4: 0, 5: 0}\n",
      "2024-02-24 11:24:33 {0: 2, 1: 0, 2: 0, 3: 0, 4: 0, 5: 0}\n",
      "2024-02-24 11:31:22 {0: 1, 1: 0, 2: 0, 3: 0, 4: 0, 5: 0}\n"
     ]
    }
   ],
   "source": [
    "for arr in data[:10]:\n",
    "    dtime = arr[1]\n",
    "    count = {i:0 for i, _ in classes.items()}\n",
    "    for c in ast.literal_eval(arr[4]):\n",
    "        count[c] += 1\n",
    "    \n",
    "    print(dtime, count)"
   ]
  },
  {
   "cell_type": "code",
   "execution_count": 34,
   "metadata": {},
   "outputs": [
    {
     "data": {
      "text/plain": [
       "[(1,\n",
       "  '2024-02-24 11:24:26',\n",
       "  '[[149.0539093017578, 312.4560546875, 455.0445251464844, 480.0], [473.79705810546875, 196.3007354736328, 639.57177734375, 480.0]]',\n",
       "  '[0.703027069568634, 0.7056931257247925]',\n",
       "  '[0, 0]',\n",
       "  '[1, 2]'),\n",
       " (2,\n",
       "  '2024-02-24 11:24:28',\n",
       "  '[[136.6635284423828, 310.6073303222656, 446.42486572265625, 480.0], [474.2165832519531, 195.84947204589844, 640.0, 480.0]]',\n",
       "  '[0.6713724732398987, 0.6848718523979187]',\n",
       "  '[0, 0]',\n",
       "  '[1, 2]'),\n",
       " (3,\n",
       "  '2024-02-24 11:24:29',\n",
       "  '[[127.39533233642578, 298.1336669921875, 459.6192321777344, 480.0], [480.4258117675781, 191.5514678955078, 640.0, 480.0]]',\n",
       "  '[0.742521345615387, 0.4747643768787384]',\n",
       "  '[0, 0]',\n",
       "  '[1, 2]'),\n",
       " (4,\n",
       "  '2024-02-24 11:24:30',\n",
       "  '[[123.68619537353516, 297.05755615234375, 457.9034729003906, 480.0], [481.7348327636719, 188.5151824951172, 640.0, 480.0]]',\n",
       "  '[0.7381100058555603, 0.4374709129333496]',\n",
       "  '[0, 0]',\n",
       "  '[1, 2]'),\n",
       " (5,\n",
       "  '2024-02-24 11:24:30',\n",
       "  '[[122.5447769165039, 296.80438232421875, 457.1726379394531, 480.0], [493.3849182128906, 171.8581085205078, 640.0, 480.0]]',\n",
       "  '[0.7369082570075989, 0.5435152053833008]',\n",
       "  '[0, 0]',\n",
       "  '[1, 2]'),\n",
       " (6,\n",
       "  '2024-02-24 11:24:31',\n",
       "  '[[124.52772521972656, 297.3665771484375, 457.8737487792969, 480.0], [496.8726501464844, 179.3104248046875, 640.0, 480.0]]',\n",
       "  '[0.7570925354957581, 0.6304433345794678]',\n",
       "  '[0, 0]',\n",
       "  '[1, 2]'),\n",
       " (7,\n",
       "  '2024-02-24 11:24:32',\n",
       "  '[[123.71341705322266, 297.6377258300781, 456.7503662109375, 480.0], [504.6966552734375, 159.12411499023438, 640.0, 480.0]]',\n",
       "  '[0.7259145379066467, 0.6151593327522278]',\n",
       "  '[0, 0]',\n",
       "  '[1, 2]'),\n",
       " (8,\n",
       "  '2024-02-24 11:24:33',\n",
       "  '[[23.30620574951172, 290.90411376953125, 365.3097839355469, 480.0], [459.5821228027344, 175.9676971435547, 630.6134033203125, 480.0]]',\n",
       "  '[0.8328974843025208, 0.8149045705795288]',\n",
       "  '[0, 0]',\n",
       "  '[1, 2]'),\n",
       " (9,\n",
       "  '2024-02-24 11:24:33',\n",
       "  '[[0.0, 287.0325012207031, 318.1087646484375, 480.0], [432.09844970703125, 190.22354125976562, 602.8873901367188, 479.8980407714844]]',\n",
       "  '[0.7990302443504333, 0.8576815128326416]',\n",
       "  '[0, 0]',\n",
       "  '[1, 2]'),\n",
       " (10,\n",
       "  '2024-02-24 11:31:22',\n",
       "  '[[104.83587646484375, 135.0242919921875, 584.7409057617188, 480.0]]',\n",
       "  '[0.8503566980361938]',\n",
       "  '[0]',\n",
       "  '[1]')]"
      ]
     },
     "execution_count": 34,
     "metadata": {},
     "output_type": "execute_result"
    }
   ],
   "source": [
    "data[:10]"
   ]
  },
  {
   "cell_type": "code",
   "execution_count": null,
   "metadata": {},
   "outputs": [],
   "source": []
  }
 ],
 "metadata": {
  "kernelspec": {
   "display_name": "Python 3 (ipykernel)",
   "language": "python",
   "name": "python3"
  },
  "language_info": {
   "codemirror_mode": {
    "name": "ipython",
    "version": 3
   },
   "file_extension": ".py",
   "mimetype": "text/x-python",
   "name": "python",
   "nbconvert_exporter": "python",
   "pygments_lexer": "ipython3",
   "version": "3.8.12"
  }
 },
 "nbformat": 4,
 "nbformat_minor": 4
}
