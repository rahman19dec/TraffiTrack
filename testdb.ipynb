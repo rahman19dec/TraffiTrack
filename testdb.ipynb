{
 "cells": [
  {
   "cell_type": "code",
   "execution_count": 2,
   "id": "e106252b-9fcd-4f28-8c21-41443e89c056",
   "metadata": {},
   "outputs": [],
   "source": [
    "# new db\n",
    "import sqlite3\n",
    "from datetime import datetime\n",
    "import matplotlib.pyplot as plt\n",
    "from collections import defaultdict\n",
    "\n",
    "\n",
    "detections = []\n",
    "count = 0\n",
    "track_history = defaultdict(lambda: [])\n",
    "\n",
    "\n",
    "conn = sqlite3.connect('detection_database.db')\n",
    "cursor = conn.cursor()\n",
    "\n",
    "cursor.execute('SELECT * FROM detection_bytime')\n",
    "rows = cursor.fetchall()\n",
    "for row in rows:\n",
    "    print(row, '\\n')"
   ]
  },
  {
   "cell_type": "code",
   "execution_count": 4,
   "id": "e9bca2a6-c7f9-4134-a6b2-735224a525a5",
   "metadata": {},
   "outputs": [
    {
     "name": "stdout",
     "output_type": "stream",
     "text": [
      "/home/traffitrack/TraffiTrack/TraffiTrack_Backend/env/bin/python\n"
     ]
    }
   ],
   "source": []
  },
  {
   "cell_type": "code",
   "execution_count": null,
   "id": "22ee4429-137a-401a-a5fd-1bcfa2701612",
   "metadata": {},
   "outputs": [],
   "source": []
  }
 ],
 "metadata": {
  "kernelspec": {
   "display_name": "Python 3 (ipykernel)",
   "language": "python",
   "name": "python3"
  },
  "language_info": {
   "codemirror_mode": {
    "name": "ipython",
    "version": 3
   },
   "file_extension": ".py",
   "mimetype": "text/x-python",
   "name": "python",
   "nbconvert_exporter": "python",
   "pygments_lexer": "ipython3",
   "version": "3.8.12"
  }
 },
 "nbformat": 4,
 "nbformat_minor": 5
}
